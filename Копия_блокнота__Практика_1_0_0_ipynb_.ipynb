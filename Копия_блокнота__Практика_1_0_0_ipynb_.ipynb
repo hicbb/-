{
  "nbformat": 4,
  "nbformat_minor": 0,
  "metadata": {
    "colab": {
      "provenance": []
    },
    "kernelspec": {
      "name": "python3",
      "display_name": "Python 3"
    },
    "language_info": {
      "name": "python"
    }
  },
  "cells": [
    {
      "cell_type": "markdown",
      "source": [
        "ФИО:"
      ],
      "metadata": {
        "id": "fLDS5f_mCnPa"
      }
    },
    {
      "cell_type": "markdown",
      "source": [
        "Вепрев Никита Сергеевич"
      ],
      "metadata": {
        "id": "XVSdzL74_mgo"
      }
    },
    {
      "cell_type": "markdown",
      "source": [
        "# Задание (совместное с преподавателем)\n",
        "\n",
        "\n"
      ],
      "metadata": {
        "id": "-CSHUbWzCqeM"
      }
    },
    {
      "cell_type": "markdown",
      "source": [
        "Напишите систему для учёта отпусков с возможностью узнавать, сколько дней отпуска осталось у того или иного сотрудника.\n",
        "Для этого создайте класс Employee со следующими методами:\n",
        "\n",
        "- Метод consume_vacation должен отвечать за списание дней отпуска.\n",
        "\n",
        "Единственный параметр этого метода (кроме self) — количество потраченных отпускных дней (целое число).\n",
        "\n",
        "При вызове метода consume_vacation соответствующее количество дней должно вычитаться из общего числа доступных отпускных дней сотрудника.\n",
        "\n",
        "Чтобы определить число доступных отпускных дней конкретного сотрудника, в классе опишите атрибут экземпляра |, который по умолчанию будет равен значению атрибута класса vacation_days, и используйте этот атрибут в работе метода.\n",
        "\n",
        "- Метод get_vacation_details должен возвращать остаток отпускных дней сотрудника в формате: ```Остаток отпускных дней: <число>.```\n",
        "\n",
        "\n",
        "Чтобы проверить работу программы:\n",
        "1. Создайте экземпляр класса Employee.\n",
        "2. Вызовите метод consume_vacation, указав подходящее значение аргумента, например 7.\n",
        "3. Вызовите метод get_vacation_details."
      ],
      "metadata": {
        "id": "a_flBjZOCwYz"
      }
    },
    {
      "cell_type": "code",
      "source": [
        "class Employee:\n",
        "  vacation_days = 28\n",
        "\n",
        "  def __init__(self, first_name, second_name, gender):\n",
        "    self.first_name = first_name\n",
        "    self.second_name = second_name\n",
        "    self.gender = gender\n",
        "    self.remaining_vacation_days = self.vacation_days\n",
        "\n",
        "  def consume_vacation(self, days):\n",
        "    self.remaining_vacation_days -= days\n",
        "\n",
        "  def vacation_details(self):\n",
        "    return f\"Остаток отпускных дней: {self.remaining_vacation_days}\"\n",
        "\n",
        "\n",
        "\n"
      ],
      "metadata": {
        "id": "G4bUraN4CwBI"
      },
      "execution_count": null,
      "outputs": []
    },
    {
      "cell_type": "markdown",
      "source": [
        "# Задание 1"
      ],
      "metadata": {
        "id": "8XGka5GtEBK1"
      }
    },
    {
      "cell_type": "markdown",
      "source": [
        "Задание:\n",
        "\n",
        "Создайте класс с именем Rectangle который имеет:\n",
        "- Атрибуты ширины и высоты.\n",
        "- Метод расчета площади.\n",
        "- Метод расчета периметра.\n",
        "- Метод отображения размеров прямоугольника.\n",
        "\n",
        "Создайте экземпляр класса Rectangleи продемонстрируйте его функциональность."
      ],
      "metadata": {
        "id": "jQ4qqd8nEZBY"
      }
    },
    {
      "cell_type": "code",
      "source": [
        "class Rectangle:\n",
        "  count_side = 4\n",
        "\n",
        "  def __init__(self, width, height):\n",
        "    self.width = width\n",
        "    self.height = height\n",
        "\n",
        "  def area_calculation(self):\n",
        "    return self.width * self.height\n",
        "\n",
        "  def perimentre_calculation(self):\n",
        "    return (self.width + self.height)*2\n",
        "\n",
        "  def display_calculation(self):\n",
        "    return f'Ширина: {self.width}\\nВысота: {self.height}'\n",
        "\n",
        "  def change_size(self, new_width, new_height):\n",
        "    self.height = new_height\n",
        "    self.width = new_width\n",
        "\n"
      ],
      "metadata": {
        "id": "dG6uNPqTEAvt"
      },
      "execution_count": null,
      "outputs": []
    },
    {
      "cell_type": "code",
      "source": [
        "some_rectangle = Rectangle(3,4)\n",
        "print(some_rectangle.display_calculation())\n",
        "print(\"Площадь:\", some_rectangle.area_calculation())\n",
        "print(\"Периметр:\", some_rectangle.perimentre_calculation())"
      ],
      "metadata": {
        "colab": {
          "base_uri": "https://localhost:8080/"
        },
        "id": "AyEj1wnFQk8O",
        "outputId": "bf2f037f-72a0-4500-f346-799bdd9ce67e"
      },
      "execution_count": null,
      "outputs": [
        {
          "output_type": "stream",
          "name": "stdout",
          "text": [
            "Ширина: 3\n",
            "Высота: 4\n",
            "Площадь: 12\n",
            "Периметр: 14\n"
          ]
        }
      ]
    },
    {
      "cell_type": "markdown",
      "source": [
        "# Задание 2"
      ],
      "metadata": {
        "id": "0ct1u6lqE73j"
      }
    },
    {
      "cell_type": "markdown",
      "source": [
        "Задание: Создайте мини версию банковской системы:\n",
        "\n",
        "\n",
        "Инструкции:\n",
        "\n",
        "1. Создайте класс BankAccountсо следующими атрибутами:\n",
        "    - account_holder -  владелец счета\n",
        "    - balance - баланс счета\n",
        "\n",
        "2. Реализуйте следующие методы:\n",
        "    - Метод для инициализации владельца счета: имя владельца счета и установите начальный баланс на 0.\n",
        "    - deposit(amount): Добавьте указанную сумму к балансу.\n",
        "    - withdraw(amount): Вычесть указанную сумму из баланса, если средств достаточно; в противном случае вывести предупреждение.\n",
        "    - get_balance(): Возврат текущего баланса.\n",
        "\n",
        "\n",
        "Создайте объект класса и продемонстрируйте его возможности"
      ],
      "metadata": {
        "id": "FOpIpcLxE-WK"
      }
    },
    {
      "cell_type": "code",
      "source": [
        "class BankAccountco:\n",
        "  def __init__(self, account_holder):\n",
        "    self.account_holder = account_holder\n",
        "    self.balance = 0\n",
        "\n",
        "  def deposit(self, amount):\n",
        "    if amount > 0:\n",
        "      self.balance += amount\n",
        "      print(f'Успешное пополнение {amount}. Имя счета {self.account_holder}. Текущий баланс: {self.balance}')\n",
        "    else:\n",
        "      print(\"Сумма не может быть отрицтальеным\")\n",
        "\n",
        "  def withdraw(self, amount):\n",
        "    if amount > 0:\n",
        "      if self.balance >= amount:\n",
        "        self.balance -= amount\n",
        "        print(f\"Успешно снято {amount}. Имя счета {self.account_holder}. Текущий баланс: {self.balance}\")\n",
        "      else:\n",
        "        print(f\"Недостаточно средств на счете {self.account_holder}. Текущий баланс: {self.balance}\")\n",
        "\n",
        "  def get_balance(self):\n",
        "    return self.balance\n"
      ],
      "metadata": {
        "id": "WWXNIUrCE99W"
      },
      "execution_count": null,
      "outputs": []
    },
    {
      "cell_type": "code",
      "source": [
        "account = BankAccountco(\"Никита Никита\")\n",
        "account.deposit(10000)\n",
        "account.withdraw(2000)\n",
        "account.withdraw(100)\n",
        "print(f\"Текущий баланс: {account.get_balance()}\")"
      ],
      "metadata": {
        "colab": {
          "base_uri": "https://localhost:8080/"
        },
        "id": "zA8HIZzQ81bD",
        "outputId": "d293973f-b966-4994-d97b-cf0ff0021917"
      },
      "execution_count": null,
      "outputs": [
        {
          "output_type": "stream",
          "name": "stdout",
          "text": [
            "Успешное пополнение 10000. Имя счета Никита Никита. Текущий баланс: 10000\n",
            "Успешно снято 2000. Имя счета Никита Никита. Текущий баланс: 8000\n",
            "Успешно снято 100. Имя счета Никита Никита. Текущий баланс: 7900\n",
            "Текущий баланс: 7900\n"
          ]
        }
      ]
    },
    {
      "cell_type": "markdown",
      "source": [
        "# Задание 3"
      ],
      "metadata": {
        "id": "C5DX5Uf2FfP6"
      }
    },
    {
      "cell_type": "markdown",
      "source": [
        "Возьмите код и задание (Рыцарь и дракон) из предыдущей практики и реализуйте его с применением классов"
      ],
      "metadata": {
        "id": "0cR-MYepFgz6"
      }
    },
    {
      "cell_type": "code",
      "source": [],
      "metadata": {
        "id": "Oz9BZbhAFwua"
      },
      "execution_count": null,
      "outputs": []
    },
    {
      "cell_type": "markdown",
      "source": [
        "# Дополнительное задание\n"
      ],
      "metadata": {
        "id": "b_mJHXcQGI9t"
      }
    },
    {
      "cell_type": "markdown",
      "source": [
        "Задача: Система управления библиотекой\n",
        "\n",
        "**Цель**\n",
        "Создайте простую систему управления библиотекой, которая позволит пользователям добавлять книги, брать книги, возвращать книги и просматривать список доступных книг.\n",
        "\n",
        "**Требования**\n",
        "\n",
        "1. **Определение класса**:\n",
        "   – Создайте класс с именем «Book» со следующими атрибутами:\n",
        "     - `title`\n",
        "     - `автор`\n",
        "     - `isbn`\n",
        "     - `is_borrowed` (по умолчанию `False`)\n",
        "\n",
        "2. **Класс библиотеки**:\n",
        "   - Создайте класс с именем Library, который управляет коллекцией книг.\n",
        "   - Класс должен иметь следующие методы:\n",
        "     - `__init__(self)`: инициализирует пустой список книг.\n",
        "     - `add_book(self, book: Book)`: добавляет новую книгу в библиотеку.\n",
        "     - `borrow_book(self, isbn: str)`: помечает книгу как заимствованную. Если книга не найдена или уже взята, выведите соответствующее сообщение.\n",
        "     - `return_book(self, isbn: str)`: помечает книгу как возвращенную. Если книга не найдена или не была взята взаймы, выведите соответствующее сообщение.\n",
        "     - `list_available_books(self)`: печатает список всех доступных книг в библиотеке.\n",
        "     - `find_book(self, isbn: str)`: возвращает объект книги, если он найден, в противном случае возвращает `None`.\n",
        "\n",
        "3. **Взаимодействие с пользователем**:\n",
        "   - Создайте простое текстовое меню, которое позволит пользователям:\n",
        "     - Добавить книгу\n",
        "     - Одолжить книгу\n",
        "     - Вернуть книгу\n",
        "     - Список доступных книг\n",
        "     - Выйти из программы"
      ],
      "metadata": {
        "id": "pnIUdFPcGOVL"
      }
    },
    {
      "cell_type": "code",
      "source": [],
      "metadata": {
        "id": "GKKmdfN8GL6f"
      },
      "execution_count": null,
      "outputs": []
    }
  ]
}