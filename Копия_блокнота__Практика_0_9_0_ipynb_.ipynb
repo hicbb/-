{
  "nbformat": 4,
  "nbformat_minor": 0,
  "metadata": {
    "colab": {
      "provenance": []
    },
    "kernelspec": {
      "name": "python3",
      "display_name": "Python 3"
    },
    "language_info": {
      "name": "python"
    }
  },
  "cells": [
    {
      "cell_type": "markdown",
      "source": [
        "ФИО"
      ],
      "metadata": {
        "id": "8hJfL9b2l439"
      }
    },
    {
      "cell_type": "markdown",
      "source": [
        "Вепрев Никита Сергеевич"
      ],
      "metadata": {
        "id": "nVuaesZJl-Dq"
      }
    },
    {
      "cell_type": "markdown",
      "source": [
        "# Дисклеймер"
      ],
      "metadata": {
        "id": "weOtPwPQmgpD"
      }
    },
    {
      "cell_type": "markdown",
      "source": [
        "В данной практике вам необходимо применить все ваши знания по темам:\n",
        "\n",
        "- Функции\n",
        "- Словари\n",
        "- Списки\n",
        "- Множества\n",
        "- Условные конструкции\n",
        "- Запросы\n",
        "\n",
        "и все что было изучено на прошлых практических занятиях\n",
        "\n",
        "В каждом задании кратко описаны функции, которые необходимо реализовать, детали реализации вы должны продумать самостоятельно"
      ],
      "metadata": {
        "id": "LznB3uscmjDa"
      }
    },
    {
      "cell_type": "markdown",
      "source": [
        "# Задание 0"
      ],
      "metadata": {
        "id": "7nSJIqkTvC_C"
      }
    },
    {
      "cell_type": "markdown",
      "source": [
        "Создайте функцию по нахождению уникальных элементов из двух списков\n",
        "\n",
        "\n",
        "\n",
        "```\n",
        "a = [1, 2, 3, 4]\n",
        "b = [3, 4, 5, 6]\n",
        "```\n",
        "\n"
      ],
      "metadata": {
        "id": "exACjTiVvGUe"
      }
    },
    {
      "cell_type": "code",
      "source": [
        "def search_new_elements(a: list, b: list):\n",
        "  new_elements = []\n",
        "  for element in a:\n",
        "    if element not in b and element not in new_elements:\n",
        "      new_elements.append(element)\n",
        "  for element in b:\n",
        "    if element not in a and element not in new_elements:\n",
        "      new_elements.append(element)\n",
        "\n",
        "  if len(new_elements) >= 2:\n",
        "    return new_elements[:2]\n",
        "  else:\n",
        "    return new_elements\n",
        "\n",
        "a = [1, 2, 3, 4]\n",
        "b = [3, 4, 5, 6]\n",
        "\n",
        "print(search_new_elements(a, b))"
      ],
      "metadata": {
        "id": "IGlE3SJb3oud"
      },
      "execution_count": null,
      "outputs": []
    },
    {
      "cell_type": "markdown",
      "source": [
        "# Задание 1"
      ],
      "metadata": {
        "id": "SVWNlBALpCNo"
      }
    },
    {
      "cell_type": "markdown",
      "source": [
        "Симулятор виртуального питомца\n",
        "\n",
        "Цель: создать виртуальный симулятор домашних животных, в котором пользователи смогут заводить питомцев и ухаживать за ними.\n",
        "\n",
        "Требования:\n",
        "\n",
        "- Функция для усыновления питомца (имя, тип, возраст).\n",
        "- Функция для того, чтобы покормить питомца, поиграть с ним или уложить его спать.\n",
        "- Функция для отображения состояния питомца (голод, радость, энергия)."
      ],
      "metadata": {
        "id": "RcKA-VEqpC7f"
      }
    },
    {
      "cell_type": "code",
      "source": [
        "import random\n",
        "\n",
        "class Putomes:\n",
        "    def __init__(self, name: str, tipe: str, age: int):\n",
        "        self.name = name\n",
        "        self.tipe = tipe\n",
        "        self.age = age\n",
        "        self.happiness = 6\n",
        "        self.hunger = 0\n",
        "        self.energy = 10\n",
        "        self.health = 10\n",
        "\n",
        "\n",
        "    def show_info(self):\n",
        "        print(f\"Имя: {self.name}\")\n",
        "        print(f\"Тип: {self.tipe}\")\n",
        "        print(f\"Возраст: {self.age}\")\n",
        "        print(f\"Счастье: {self.happiness}\")\n",
        "        print(f\"Голод: {self.hunger}\")\n",
        "        print(f\"Энергия: {self.energy}\")\n",
        "        print(f\"Здоровье: {self.health}\")\n",
        "\n",
        "\n",
        "    def play(self):\n",
        "        self.energy -= 3\n",
        "        self.happiness += 2\n",
        "        self.hunger += 3\n",
        "        print(f\"{self.name} играет\")\n",
        "\n",
        "    def sleep(self):\n",
        "        self.energy += 5\n",
        "        self.happiness += 1\n",
        "        self.hunger += 2\n",
        "        print(f\"{self.name} спит\")\n",
        "\n",
        "    def feed(self):\n",
        "        self.hunger -= 2\n",
        "        if self.hunger < 0:\n",
        "            self.hunger = 0\n",
        "        self.happiness += 1\n",
        "        self.energy += 1\n",
        "        print(f\"{self.name} покушал\")\n",
        "\n",
        "    def pass_time(self):\n",
        "        self.hunger += 1\n",
        "        self.happiness -= 1\n",
        "        self.health -= 1\n",
        "        if self.hunger > 10:\n",
        "            print(f\"{self.name} очень голоден\")\n",
        "            self.health -= 2\n",
        "        if self.happiness < 1:\n",
        "            print(f\"{self.name} грустит\")\n",
        "            self.health -= 1\n",
        "        if self.health <= 0:\n",
        "            print(f\"{self.name} умер\")\n",
        "\n",
        "    def check_status(self):\n",
        "        return self.health > 0\n",
        "\n",
        "\n",
        "def main():\n",
        "    name = input(\"Имя питомца: \")\n",
        "    tipe = input(\"Тип питомца: \")\n",
        "    while True:\n",
        "        try:\n",
        "            age = int(input(\"Возраст питомца: \"))\n",
        "            break\n",
        "        except ValueError:\n",
        "            print(\"Некорректный возраст.\")\n",
        "\n",
        "    putomes = Putomes(name, tipe, age)\n",
        "\n",
        "    while putomes.check_status():\n",
        "        putomes.show_info()\n",
        "        action = input(\"Выбрать действие (кормить, играть, спать, пропустить время): \").lower()\n",
        "\n",
        "        if action == \"кормить\":\n",
        "            putomes.feed()\n",
        "        elif action == \"играть\":\n",
        "            putomes.play()\n",
        "        elif action == \"спать\":\n",
        "            putomes.sleep()\n",
        "        elif action == \"пропустить время\":\n",
        "            putomes.pass_time()\n",
        "        else:\n",
        "            print(\"Команда не найдена!\")\n",
        "\n",
        "        if random.random() < 0.3:\n",
        "            putomes.pass_time()\n",
        "            print(f\"{putomes.name} балуется\")\n",
        "\n",
        "if __name__ == \"__main__\":\n",
        "    main()"
      ],
      "metadata": {
        "id": "wiuuTFxxkI_c"
      },
      "execution_count": null,
      "outputs": []
    },
    {
      "cell_type": "code",
      "source": [],
      "metadata": {
        "id": "o5fZRU6gl1Xi"
      },
      "execution_count": null,
      "outputs": []
    },
    {
      "cell_type": "markdown",
      "source": [
        "# Задание 3\n"
      ],
      "metadata": {
        "id": "N8oFiEXol3e2"
      }
    },
    {
      "cell_type": "markdown",
      "source": [
        "Цель - создать менеджера команды Pokémon, который позволит пользователям:\n",
        "\n",
        "- Добавлять покемонов в свою команду. (если такого покемона еще нет в команде)\n",
        "- Удалять покемонов из их команды.\n",
        "- Просматривать подробную информацию обо всех покемонах в команде.\n",
        "- Находить покемона по имени.\n",
        "- Устраивать тренировочный бой между двумя покемонами\n",
        "\n",
        "Для данной задачи используйте: https://pokeapi.co/\n"
      ],
      "metadata": {
        "id": "9p4WQG_Vl7wB"
      }
    },
    {
      "cell_type": "code",
      "source": [],
      "metadata": {
        "id": "NnGYp1MTqi5k"
      },
      "execution_count": null,
      "outputs": []
    }
  ]
}