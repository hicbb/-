{
  "nbformat": 4,
  "nbformat_minor": 0,
  "metadata": {
    "colab": {
      "provenance": []
    },
    "kernelspec": {
      "name": "python3",
      "display_name": "Python 3"
    },
    "language_info": {
      "name": "python"
    }
  },
  "cells": [
    {
      "cell_type": "markdown",
      "source": [
        "ФИО"
      ],
      "metadata": {
        "id": "phMKaFq3DN13"
      }
    },
    {
      "cell_type": "markdown",
      "source": [
        "Вепрев Никита Сергеевич"
      ],
      "metadata": {
        "id": "trS4GQKjnllc"
      }
    },
    {
      "cell_type": "code",
      "execution_count": null,
      "metadata": {
        "id": "3CWpaI7SDK8t"
      },
      "outputs": [],
      "source": []
    },
    {
      "cell_type": "markdown",
      "source": [
        "**Во всей практике нельзя применять библиотеки предоставляющие готовые решения!**"
      ],
      "metadata": {
        "id": "jyIy3GOgFOCe"
      }
    },
    {
      "cell_type": "markdown",
      "source": [
        "# **Задача 1.**\n"
      ],
      "metadata": {
        "id": "XizmlL1RK2t3"
      }
    },
    {
      "cell_type": "markdown",
      "source": [
        "\n",
        "\n",
        "Типы данных Напишите программу на Python, которая принимает список чисел в качестве входных данных от пользователя, а затем выводит сумму, среднее значение и максимальное значение из списка.\n",
        "\n",
        "***Нельзя использовать: len(), min(), max(), average(), sum()***\n",
        "\n",
        "Дано:\n",
        "```\n",
        "1 2 3 4 5 6 7\n",
        "```\n",
        "Вывод:\n",
        "\n",
        "```\n",
        "Сумма чисел: 28\n",
        "Среднее арифм.: 4.0\n",
        "Максимальное значение: 7\n",
        "```\n",
        "\n"
      ],
      "metadata": {
        "id": "p0v6KtHTFKSd"
      }
    },
    {
      "cell_type": "code",
      "source": [
        "list = [str(input())]\n",
        "listnum = []\n",
        "baze=[]\n",
        "cnt = 0\n",
        "for j in list:\n",
        "  listnum += j\n",
        "for i in listnum:\n",
        "  if i != ' ':\n",
        "    baze.append(int(i))\n",
        "print(baze)\n",
        "for kok in baze:\n",
        "  cnt += 1\n",
        "maxznach = sorted(baze)[-1]\n",
        "srznach = sum//cnt\n",
        "print(maxznach,sum,srznach)\n",
        "\n"
      ],
      "metadata": {
        "id": "0e1Virl0FpF6"
      },
      "execution_count": null,
      "outputs": []
    },
    {
      "cell_type": "code",
      "source": [
        "a = int(input())\n",
        "b = int(input())\n",
        "while a != 0 and b != 0:\n",
        "  if a > b:\n",
        "    a = a % b\n",
        "  else:\n",
        "    b = b % a\n",
        "print(a + b)"
      ],
      "metadata": {
        "id": "WRcOtegPFEHb"
      },
      "execution_count": null,
      "outputs": []
    },
    {
      "cell_type": "markdown",
      "source": [
        "# **Задача 2.**"
      ],
      "metadata": {
        "id": "uFluc5OSK0NH"
      }
    },
    {
      "cell_type": "markdown",
      "source": [
        "\n",
        "Напишите программу на Python, которая принимает список слов в качестве входных данных от пользователя, а затем распечатывает список в обратном порядке.\n",
        "\n",
        "Ввод:\n",
        "\n",
        "```\n",
        "апельсин мандарин яблоко\n",
        "```\n",
        "\n",
        "Вывод:\n",
        "\n",
        "```\n",
        "яблоко мандарин апельсин\n",
        "```"
      ],
      "metadata": {
        "id": "6T8vg324GG4Z"
      }
    },
    {
      "cell_type": "code",
      "source": [
        "list1 = input()\n",
        "list1 = list1.split(' ')\n",
        "print(list1[::-1])"
      ],
      "metadata": {
        "id": "v3AWj4ufGKox",
        "colab": {
          "base_uri": "https://localhost:8080/"
        },
        "outputId": "b08953b1-5f73-490a-fd84-aa8b9d614d26"
      },
      "execution_count": null,
      "outputs": [
        {
          "output_type": "stream",
          "name": "stdout",
          "text": [
            "ла ле да\n",
            "['да', 'ле', 'ла']\n"
          ]
        }
      ]
    },
    {
      "cell_type": "code",
      "source": [
        "\n",
        "def check(a, b):\n",
        "    if(sorted(a)== sorted(b)):\n",
        "        print(\"True\")\n",
        "    else:\n",
        "        print(\"False\")"
      ],
      "metadata": {
        "id": "5SS9F7UkEyft"
      },
      "execution_count": null,
      "outputs": []
    },
    {
      "cell_type": "markdown",
      "source": [
        "# **Задача 3**"
      ],
      "metadata": {
        "id": "D1KkCxtIKxRx"
      }
    },
    {
      "cell_type": "markdown",
      "source": [
        "Простой чат-бот\n",
        "Создайте простого чат-бота, который отвечает на основные запросы пользователей. Программа должна использовать условные выражения для определения намерений пользователя и последующего соответствующего ответа.\n",
        "\n",
        "Чат бот может:\n",
        "\n",
        "- помогать складывать числа\n",
        "- подсказывать фильм, музыку и тд (из заранее созданного списка)\n",
        "- создавать список дел (а также выводить его, обновлять, очищать)\n",
        "\n",
        "Интерфейс чат-бота на ваше усмотрение, это могут быть как заранее определенные команды, так и к примеру вызов команды по номеру\n",
        "\n",
        "*Реализовать без использования функций*\n",
        "\n",
        "Пример:\n",
        "\n",
        "Ввод:\n",
        "\n",
        "```\n",
        "Олег, какую мызыку посоветуешь?\n",
        "```\n",
        "\n",
        "Вывод:\n",
        "\n",
        "```\n",
        "Я бы посоветовал вам: Led Zeppelin Stairway to Heaven\n",
        "```"
      ],
      "metadata": {
        "id": "Yq8Jgb9yHvSi"
      }
    },
    {
      "cell_type": "code",
      "source": [
        "\n",
        "print('Приветствую, введите номер команды: 1 - калькулятор .. 2 - советы по музыке .. 3 - найдите интересное занятие на сегодня ')\n",
        "komanda = input()\n",
        "if komanda == '1':\n",
        "  print('введите первое число')\n",
        "  a = input()\n",
        "  print('введите второе число')\n",
        "  b = input()\n",
        "  print('какую операцию применить')\n",
        "  c = str(input())\n",
        "  print('Ваш ответ:')\n",
        "  if c == '+':\n",
        "   print(int(a)+int(b))\n",
        "  if c == '-':\n",
        "    print(int(a)-int(b))\n",
        "  if c == '*':\n",
        "    print(int(a)*int(b))\n",
        "  if c == '/':\n",
        "    print(int(a)//int(b))\n",
        "if komanda == '2':\n",
        "  import random\n",
        "  print('Что вас интересует?')\n",
        "  musica = input()\n",
        "  otvetimusica = ['Рекомендую вам воздержаться от прослушивания музыки и заняться медитацией','Попробуйте послушать джаз поздник 50-ых','Я бы порекомендовал вам классическую музыку']\n",
        "  otvetimusica_random = random.choice(otvetimusica)\n",
        "  print(otvetimusica_random)\n",
        "if komanda == '3':\n",
        "  print('Вам скучно? Хотите посоветую интересные занятия?')\n",
        "  dela = input()\n",
        "  otvetdela = ['Составьте плейлист любимых песен и потанцуйте.','Сходите в библиотеку и возьмите книгу неизвестного вам автора.','Совершите виртуальную экскурсию по музею.']\n",
        "  otvetdela_random = random.choice(otvetdela)\n",
        "  print(otvetdela_random)\n",
        "\n"
      ],
      "metadata": {
        "id": "fmW-tmUtINN9",
        "colab": {
          "base_uri": "https://localhost:8080/"
        },
        "outputId": "8032daf9-4636-4511-85e0-2914d8389cb1"
      },
      "execution_count": null,
      "outputs": [
        {
          "output_type": "stream",
          "name": "stdout",
          "text": [
            "Приветствую, введите номер команды: 1 - калькулятор .. 2 - советы по музыке .. 3 - найдите интересное занятие на сегодня \n",
            "1\n",
            "введите первое число\n",
            "4\n",
            "введите второе число\n",
            "6\n",
            "какую операцию применить\n",
            "+\n",
            "Ваш ответ:\n",
            "10\n"
          ]
        }
      ]
    },
    {
      "cell_type": "markdown",
      "source": [
        "# **Задача 4.**\n"
      ],
      "metadata": {
        "id": "PHXBfyc6Ko7D"
      }
    },
    {
      "cell_type": "markdown",
      "source": [
        "Камень, ножницы, бумага\n",
        "\n",
        "Создайте игру в Камень, ножницы, бумагу, в которой пользователь может играть против компьютера. Программа должна запросить выбор пользователя, а затем сгенерировать выбор компьютера. Затем программа должна определить победителя на основе правил игры.\n",
        "\n",
        "**Этап 1:**\n",
        "\n",
        "Определение победителя\n",
        "\n",
        "**Этап 2:**\n",
        "  \n",
        "Игра до 3 побед\n",
        "\n",
        "\n",
        "Ввод для \"Этап 1\":\n",
        "\n",
        "```\n",
        "Камень\n",
        "```\n",
        "\n",
        "Вывод:\n",
        "\n",
        "```\n",
        "Компьютер: Ножницы\n",
        "Игрок: Камень\n",
        "Победа: Игрок\n",
        "```"
      ],
      "metadata": {
        "id": "jnKWeYleI0j6"
      }
    },
    {
      "cell_type": "code",
      "source": [
        "print('Делай ход')\n",
        "xodigroka = input()\n",
        "xodpcvse = ['камень','ножницы','бумага']\n",
        "import random\n",
        "xodpc = random.choice(xodpcvse)\n",
        "print(xodpc)\n",
        "if xodpc == xodigroka:\n",
        "  print('Ничья')\n",
        "if xodpc == 'ножницы' and xodigroka == 'бумага':\n",
        "  print('Вы проиграли')\n",
        "if xodpc == 'ножницы' and xodigroka == 'камень':\n",
        "  print('Вы выиграли')\n",
        "if xodpc == 'бумага' and xodigroka == 'ножницы':\n",
        "  print('Вы выиграли')\n",
        "if xodpc == 'бумага' and xodigroka == 'камень':\n",
        "  print('Вы проиграли')\n",
        "if xodpc == 'камень' and xodigroka == 'ножницы':\n",
        "  print('Вы проиграли')\n",
        "if xodpc == 'камень' and xodigroka == 'бумага':\n",
        "  print('Вы выиграли')\n",
        "\n",
        "\n",
        "\n"
      ],
      "metadata": {
        "id": "ooIPCRe_JHkX",
        "colab": {
          "base_uri": "https://localhost:8080/"
        },
        "outputId": "9b0f973d-9aae-4408-feea-69a59ce5b7d0"
      },
      "execution_count": null,
      "outputs": [
        {
          "output_type": "stream",
          "name": "stdout",
          "text": [
            "Делай ход\n",
            "камень\n",
            "ножницы\n",
            "Вы выиграли\n"
          ]
        }
      ]
    },
    {
      "cell_type": "markdown",
      "source": [
        "# **Задача 6.**"
      ],
      "metadata": {
        "id": "Hg4FJNFbLHQO"
      }
    },
    {
      "cell_type": "markdown",
      "source": [
        "Создайте игру \"Палач\" или \"Виселица\", в которой пользователь должен угадать слово, предлагая буквы. Программа должна выбрать случайное слово, а затем разрешить пользователю угадывать буквы. После каждого угадывания программа должна сообщать пользователю, есть ли в слове буква или нет.\n",
        "\n",
        "**Этап 1**\n",
        "Создать саму игру\n",
        "\n",
        "**Этап 2:**\n",
        "Ввести подсчет количества очков и ограничения на попытки\n",
        "\n",
        "**Этап 3:** Добавить возможность сразу угадать слово"
      ],
      "metadata": {
        "id": "OHqj3HJuLJgY"
      }
    },
    {
      "cell_type": "code",
      "source": [
        "import random\n",
        "zagadki =['дом','корова','сад']\n",
        "zagadslov = random.choice(zagadki)\n",
        "print('Слово загадано')\n",
        "def f(bukva):\n",
        "  if bukva in zagadslov:\n",
        "    return 1\n",
        "  else:\n",
        "    return 0\n",
        "turns = 5\n",
        "while turns > 0:\n",
        "  bukva = input()\n",
        "  if f(bukva) == 1:\n",
        "    print('есть такая буква')\n",
        "  else:\n",
        "    turns = turns -1\n",
        "\n",
        "\n"
      ],
      "metadata": {
        "id": "0N2zCYwVLiIw",
        "colab": {
          "base_uri": "https://localhost:8080/"
        },
        "outputId": "52899029-3ac5-48f9-e3f1-7d88933cad72"
      },
      "execution_count": null,
      "outputs": [
        {
          "name": "stdout",
          "output_type": "stream",
          "text": [
            "Слово загадано\n",
            "н\n",
            "в\n",
            "а\n",
            "п\n",
            "р\n"
          ]
        }
      ]
    },
    {
      "cell_type": "markdown",
      "source": [
        "# **Дополнительно: Задача 7.**\n"
      ],
      "metadata": {
        "id": "w0x3QFGzKtDD"
      }
    },
    {
      "cell_type": "markdown",
      "source": [
        "\n",
        "**Цифра на определенном месте:**\n",
        "\n",
        "Последовательно записан натуральный ряд чисел.\n",
        "\n",
        "Какая цифра стоит в N позиции\n",
        "\n",
        "\n",
        "Вввод:\n",
        "\n",
        "```\n",
        "Введите номер позиции: 1234567890\n",
        "```\n",
        "\n",
        "Вывод:\n",
        "\n",
        "```\n",
        "8\n",
        "```"
      ],
      "metadata": {
        "id": "QqZArcpHJxVj"
      }
    },
    {
      "cell_type": "code",
      "source": [
        "num = [j for j in range (1,100000)]\n",
        "num2 = ''.join(map(str,num))\n",
        "num3 = int(input('Введите номер позиции: '))\n",
        "num4 = num2[num3-1]\n",
        "print(num4)"
      ],
      "metadata": {
        "id": "LwjYwBGcKiJ9",
        "colab": {
          "base_uri": "https://localhost:8080/"
        },
        "outputId": "2714e538-6d16-4ffa-a402-f288383c7210"
      },
      "execution_count": null,
      "outputs": [
        {
          "output_type": "stream",
          "name": "stdout",
          "text": [
            "Введите номер позиции: 13\n",
            "1\n"
          ]
        }
      ]
    }
  ]
}